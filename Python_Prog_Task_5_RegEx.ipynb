{
  "nbformat": 4,
  "nbformat_minor": 0,
  "metadata": {
    "colab": {
      "provenance": [],
      "authorship_tag": "ABX9TyOVYCxenhS32Ue1pbogF/SD",
      "include_colab_link": true
    },
    "kernelspec": {
      "name": "python3",
      "display_name": "Python 3"
    },
    "language_info": {
      "name": "python"
    }
  },
  "cells": [
    {
      "cell_type": "markdown",
      "metadata": {
        "id": "view-in-github",
        "colab_type": "text"
      },
      "source": [
        "<a href=\"https://colab.research.google.com/github/ajay-singh-rathore/Python_Prog_Task_5_RegEx/blob/main/Python_Prog_Task_5_RegEx.ipynb\" target=\"_parent\"><img src=\"https://colab.research.google.com/assets/colab-badge.svg\" alt=\"Open In Colab\"/></a>"
      ]
    },
    {
      "cell_type": "markdown",
      "source": [
        "### Detect Floating Point Number\n",
        "Question Link: https://www.hackerrank.com/challenges/introduction-to-regex/problem?isFullScreen=true"
      ],
      "metadata": {
        "id": "4wrC4L4YBj-u"
      }
    },
    {
      "cell_type": "code",
      "execution_count": null,
      "metadata": {
        "id": "TmaLltO9Bhiz"
      },
      "outputs": [],
      "source": [
        "def main():\n",
        "    l = []\n",
        "    num = int(input())\n",
        "    for i in range(num):\n",
        "        n = input()\n",
        "        if n == 0:\n",
        "            l.append('False')\n",
        "        else:\n",
        "            try:\n",
        "                if float(n) and n != 0:\n",
        "                    l.append('True')\n",
        "                else:\n",
        "                    l.append('False')\n",
        "            except:\n",
        "                l.append('False')\n",
        "    print('\\n'.join(l))\n",
        "\n",
        "\n",
        "if __name__ == '__main__':\n",
        "    main()"
      ]
    },
    {
      "cell_type": "markdown",
      "source": [
        "### Re.split()\n",
        "Question Link: https://www.hackerrank.com/challenges/re-split/problem?isFullScreen=true"
      ],
      "metadata": {
        "id": "Mv3bQUHIB1bG"
      }
    },
    {
      "cell_type": "code",
      "source": [
        "regex_pattern = r\"[\\,\\.]\"\n",
        "\n",
        "import re\n",
        "print(\"\\n\".join(re.split(regex_pattern, input())))"
      ],
      "metadata": {
        "id": "tts4heZeCSa1"
      },
      "execution_count": null,
      "outputs": []
    },
    {
      "cell_type": "markdown",
      "source": [
        "### Group(), Groups() & Groupdict()\n",
        "Question Link: https://www.hackerrank.com/challenges/re-group-groups/problem?isFullScreen=true"
      ],
      "metadata": {
        "id": "VXYFMrZICV00"
      }
    },
    {
      "cell_type": "code",
      "source": [
        "# Enter your code here. Read input from STDIN. Print output to STDOUT\n",
        "import re\n",
        "\n",
        "m = re.search(r'([a-zA-Z0-9])\\1+', input()) \n",
        "print(m.group(1) if m else -1)"
      ],
      "metadata": {
        "id": "OVOXqMO8C2xT"
      },
      "execution_count": null,
      "outputs": []
    },
    {
      "cell_type": "markdown",
      "source": [
        "### Re.findall() & Re.finditer()\n",
        "Question Link: https://www.hackerrank.com/challenges/re-findall-re-finditer/problem?isFullScreen=true"
      ],
      "metadata": {
        "id": "3hsEu2_-DIzW"
      }
    },
    {
      "cell_type": "code",
      "source": [
        "# Enter your code here. Read input from STDIN. Print output to STDOUT\n",
        "import re\n",
        "text = r'[aeiouAEIOU^]?[aeiouAEIOU]{2,}[^aeiouAEIOU$]'\n",
        "value = re.findall(text,input())\n",
        "if value:\n",
        "    [print(i[:-1]) for i in value]\n",
        "else:\n",
        "    print(-1)"
      ],
      "metadata": {
        "id": "vzRYAm8fDdV7"
      },
      "execution_count": null,
      "outputs": []
    },
    {
      "cell_type": "markdown",
      "source": [
        "### Re.start() & Re.end()\n",
        "Question Link: https://www.hackerrank.com/challenges/re-start-re-end/problem?isFullScreen=true"
      ],
      "metadata": {
        "id": "GXWGfRvzDv0P"
      }
    },
    {
      "cell_type": "code",
      "source": [
        "# Enter your code here. Read input from STDIN. Print output to STDOUT\n",
        "import re\n",
        "s,k = input(),input()\n",
        "patter = re.compile(k)\n",
        "m=patter.search(s)\n",
        "\n",
        "if not m:\n",
        "        print((-1,-1))  \n",
        "while m:\n",
        "    print((m.start(),m.end()-1))\n",
        "    m=patter.search(s,m.start()+1)"
      ],
      "metadata": {
        "id": "D6jckaLjD4pH"
      },
      "execution_count": null,
      "outputs": []
    },
    {
      "cell_type": "markdown",
      "source": [
        "### Regex Substitution\n",
        "Question Link: https://www.hackerrank.com/challenges/re-sub-regex-substitution/problem?isFullScreen=true"
      ],
      "metadata": {
        "id": "OOhWJqlwEIiz"
      }
    },
    {
      "cell_type": "code",
      "source": [
        "# Enter your code here. Read input from STDIN. Print output to STDOUT\n",
        "import re\n",
        "trans = {'||': 'or', '&&': 'and'}\n",
        "for _ in range(int(input())):\n",
        "    print(re.sub('(?!^)(?<= )(\\|\\||&&)(?= )', lambda m: trans[m.group(1)], input()))"
      ],
      "metadata": {
        "id": "xTSJsctmEcu3"
      },
      "execution_count": null,
      "outputs": []
    },
    {
      "cell_type": "markdown",
      "source": [
        "### Validating Roman Numerals\n",
        "Question Link: https://www.hackerrank.com/challenges/validate-a-roman-number/problem?isFullScreen=true"
      ],
      "metadata": {
        "id": "yjANNglxEieE"
      }
    },
    {
      "cell_type": "code",
      "source": [
        "regex_pattern = r\"^(?=[MDCLXVI])M{0,3}(C[MD]|D?C{0,3})(X[CL]|L?X{0,3})(I[XV]|V?I{0,3})$\"    # Do not delete 'r'.\n",
        "\n",
        "import re\n",
        "print(str(bool(re.match(regex_pattern, input()))))"
      ],
      "metadata": {
        "id": "E5Z7CPbFE7lD"
      },
      "execution_count": null,
      "outputs": []
    },
    {
      "cell_type": "markdown",
      "source": [
        "### Validating phone numbers\n",
        "Question Link: https://www.hackerrank.com/challenges/validating-the-phone-number/problem?isFullScreen=true"
      ],
      "metadata": {
        "id": "rtb9srWHFgJU"
      }
    },
    {
      "cell_type": "code",
      "source": [
        "# Enter your code here. Read input from STDIN. Print output to STDOUT\n",
        "import re\n",
        "\n",
        "for _ in range(int(input())):\n",
        "    print('YES' if re.match(r'^[7-9]\\d{9}$', input()) else 'NO')"
      ],
      "metadata": {
        "id": "yORxoTEXFkZp"
      },
      "execution_count": null,
      "outputs": []
    },
    {
      "cell_type": "markdown",
      "source": [
        "### Validating and Parsing Email Addresses\n",
        "Question Link: https://www.hackerrank.com/challenges/validating-named-email-addresses/problem?isFullScreen=true"
      ],
      "metadata": {
        "id": "poiyfWJkFv07"
      }
    },
    {
      "cell_type": "code",
      "source": [
        "# Enter your code here. Read input from STDIN. Print output to STDOUT\n",
        "import re\n",
        "\n",
        "for _ in range(int(input())):\n",
        "    s = input()\n",
        "    if re.search(r'<[a-zA-Z][\\w\\-.]+@[a-zA-Z]+\\.[a-zA-Z]{1,3}>', s):\n",
        "        print(s)"
      ],
      "metadata": {
        "id": "hMehgkB-F8wU"
      },
      "execution_count": null,
      "outputs": []
    },
    {
      "cell_type": "markdown",
      "source": [
        "### Hex Color Code\n",
        "Question Link: https://www.hackerrank.com/challenges/hex-color-code/problem?isFullScreen=true"
      ],
      "metadata": {
        "id": "4SUU_xx_GHZD"
      }
    },
    {
      "cell_type": "code",
      "source": [
        "# Enter your code here. Read input from STDIN. Print output to STDOUT\n",
        "import re\n",
        "\n",
        "pattern = re.compile(r'#([0-9a-fA-F]{1,2}){3}')\n",
        "\n",
        "res = []\n",
        "for _ in range(int(input())):\n",
        "    s = input()\n",
        "    if s.endswith(';'):\n",
        "        res += [m.group(0) for m in re.finditer(pattern, s)]\n",
        "print(*res, sep='\\n')"
      ],
      "metadata": {
        "id": "_JfY1CxOGO5U"
      },
      "execution_count": null,
      "outputs": []
    },
    {
      "cell_type": "markdown",
      "source": [
        "### HTML Parser - Part 1\n",
        "Question Link: https://www.hackerrank.com/challenges/html-parser-part-1/problem?isFullScreen=true"
      ],
      "metadata": {
        "id": "d151d1D0GnEd"
      }
    },
    {
      "cell_type": "code",
      "source": [
        "# Enter your code here. Read input from STDIN. Print output to STDOUT\n",
        "from html.parser import HTMLParser\n",
        "\n",
        "def show(attrs):\n",
        "    for attr in attrs:\n",
        "            print(\"-> {0} > {1}\".format(attr[0], attr[1]))\n",
        "            \n",
        "class MyHTMLParser(HTMLParser):\n",
        "    def handle_starttag(self, tag, attrs):\n",
        "        print(f\"Start : {tag}\")\n",
        "        show(attrs)\n",
        "            \n",
        "    def handle_endtag(self, tag):\n",
        "        print(\"End   : \" + tag)\n",
        "\n",
        "    def handle_startendtag(self, tag, attrs):\n",
        "        print(\"Empty :\", tag)\n",
        "        show(attrs)\n",
        "        \n",
        "parser = MyHTMLParser()\n",
        "parser.feed(''.join([input() for _ in range(int(input()))]))"
      ],
      "metadata": {
        "id": "IHYjk5koGwJG"
      },
      "execution_count": null,
      "outputs": []
    },
    {
      "cell_type": "markdown",
      "source": [
        "### HTML Parser - Part 2\n",
        "Question Link: https://www.hackerrank.com/challenges/html-parser-part-2/problem?isFullScreen=true"
      ],
      "metadata": {
        "id": "eC8909ttHBeU"
      }
    },
    {
      "cell_type": "code",
      "source": [
        "from html.parser import HTMLParser\n",
        "\n",
        "class MyHTMLParser(HTMLParser):    \n",
        "    def handle_comment(self, data):\n",
        "        prefix = 'Multi' if '\\n' in data else 'Single' \n",
        "        print(f\">>> {prefix}-line Comment\", data, sep=\"\\n\")\n",
        "    \n",
        "    def handle_data(self, data):\n",
        "        if data != \"\\n\":\n",
        "            print(\">>> Data\", data, sep=\"\\n\")\n",
        "\n",
        "  \n",
        "html = \"\"       \n",
        "for i in range(int(input())):\n",
        "    html += input().rstrip()\n",
        "    html += '\\n'\n",
        "    \n",
        "parser = MyHTMLParser()\n",
        "parser.feed(html)\n",
        "parser.close()"
      ],
      "metadata": {
        "id": "9w5bYVWWHNJL"
      },
      "execution_count": null,
      "outputs": []
    },
    {
      "cell_type": "markdown",
      "source": [
        "### Detect HTML Tags, Attributes and Attribute Values\n",
        "Question Link: https://www.hackerrank.com/challenges/detect-html-tags-attributes-and-attribute-values/problem?isFullScreen=true"
      ],
      "metadata": {
        "id": "JPFJiP5qHiII"
      }
    },
    {
      "cell_type": "code",
      "source": [
        "# Enter your code here. Read input from STDIN. Print output to STDOUT\n",
        "from html.parser import HTMLParser\n",
        "\n",
        "class MyHTMLParser(HTMLParser):\n",
        "    def handle_starttag(self, tag, attrs):\n",
        "        print(tag, *('-> {0} > {1}'.format(*attr) for attr in attrs), sep='\\n')\n",
        "\n",
        "MyHTMLParser().feed(''.join([input() for _ in range(int(input()))]))"
      ],
      "metadata": {
        "id": "fjM5RTjbHpU9"
      },
      "execution_count": null,
      "outputs": []
    },
    {
      "cell_type": "markdown",
      "source": [
        "### Validating UID\n",
        "Question Link: https://www.hackerrank.com/challenges/validating-uid/problem?isFullScreen=true"
      ],
      "metadata": {
        "id": "ILSm7LzgH3Y8"
      }
    },
    {
      "cell_type": "code",
      "source": [
        "import re\n",
        "\n",
        "def is_valid_uid(uid):\n",
        "    return all([\n",
        "        re.search(r'[A-Z].*[A-Z]', uid),\n",
        "        re.search(r'\\d.*\\d.*\\d', uid),\n",
        "        not re.search(r'\\W', uid),\n",
        "        len(set(uid)) == 10,\n",
        "        len(uid) == 10\n",
        "    ])\n",
        "\n",
        "t = int(input().strip())\n",
        "\n",
        "for i in range(t):\n",
        "    uid = input().strip()\n",
        "    if is_valid_uid(uid):\n",
        "        print(\"Valid\")\n",
        "    else:\n",
        "        print(\"Invalid\")"
      ],
      "metadata": {
        "id": "ZandBdW5H-tD"
      },
      "execution_count": null,
      "outputs": []
    },
    {
      "cell_type": "markdown",
      "source": [
        "### Validating Credit Card Numbers\n",
        "Question Link: https://www.hackerrank.com/challenges/validating-credit-card-number/problem?isFullScreen=true"
      ],
      "metadata": {
        "id": "xvTNyBJvIaYb"
      }
    },
    {
      "cell_type": "code",
      "source": [
        "# Enter your code here. Read input from STDIN. Print output to STDOUT\n",
        "for _ in range(int(input())): \n",
        "    print('Valid' if __import__('re').match(r'^(?!.*(\\d)(-?\\1){3})[456]\\d{3}(?:-?\\d{4}){3}$', input()) else 'Invalid')"
      ],
      "metadata": {
        "id": "rNgj-WGRIh-2"
      },
      "execution_count": null,
      "outputs": []
    },
    {
      "cell_type": "markdown",
      "source": [
        "### Validating Postal Codes\n",
        "Question Link: https://www.hackerrank.com/challenges/validating-postalcode/problem?isFullScreen=true"
      ],
      "metadata": {
        "id": "JhBX8XLrIvhv"
      }
    },
    {
      "cell_type": "code",
      "source": [
        "regex_integer_in_range = r\"^\\d{6}$\"    # Do not delete 'r'.\n",
        "regex_alternating_repetitive_digit_pair = r\"(\\d)(?=.\\1)\"    # Do not delete 'r'.\n",
        "\n",
        "import re\n",
        "P = input()\n",
        "\n",
        "print (bool(re.match(regex_integer_in_range, P)) \n",
        "and len(re.findall(regex_alternating_repetitive_digit_pair, P)) < 2)"
      ],
      "metadata": {
        "id": "OQXRczQ0I5Lm"
      },
      "execution_count": null,
      "outputs": []
    },
    {
      "cell_type": "markdown",
      "source": [
        "### Matrix Script\n",
        "Question Link: https://www.hackerrank.com/challenges/matrix-script/problem?isFullScreen=true"
      ],
      "metadata": {
        "id": "cH0-sxbEJE_t"
      }
    },
    {
      "cell_type": "code",
      "source": [
        "import re\n",
        "\n",
        "first_multiple_input = input().rstrip().split()\n",
        "\n",
        "n = int(first_multiple_input[0])\n",
        "\n",
        "m = int(first_multiple_input[1])\n",
        "\n",
        "matrix = []\n",
        "\n",
        "for _ in range(n):\n",
        "    matrix_item = input()\n",
        "    matrix.append(matrix_item)\n",
        "\n",
        "transponded = \"\".join([matrix[j][i] for i in range(m) for j in range(n)])\n",
        "\n",
        "ending = re.search(\"[^a-zA-Z0-9]*$\", transponded).group()[1:]\n",
        "middle = re.sub(\"[^a-zA-Z0-9]+\", \" \", transponded).strip()\n",
        "begining = re.search(\"^[^a-zA-Z0-9]*\", transponded).group()[:-1]\n",
        "\n",
        "result = \"\"\n",
        "result += begining\n",
        "result += middle\n",
        "result += ending\n",
        "\n",
        "print(result)"
      ],
      "metadata": {
        "id": "evsrALpZJMP7"
      },
      "execution_count": null,
      "outputs": []
    }
  ]
}